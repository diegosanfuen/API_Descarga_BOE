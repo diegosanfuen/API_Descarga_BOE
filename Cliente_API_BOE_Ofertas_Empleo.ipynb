{
 "cells": [
  {
   "cell_type": "markdown",
   "id": "a4bf2192-014d-44cf-a812-747326e84dbe",
   "metadata": {},
   "source": [
    "# Cliente para el API implementado en Descarga BOE Ofertas Empleo y API Flask.ipynb: \n",
    "\n",
    "Consulta empleo público dado un termino de busqueda"
   ]
  },
  {
   "cell_type": "code",
   "execution_count": 2,
   "id": "16e92104-a0ed-4f94-86de-2c8547a4600c",
   "metadata": {},
   "outputs": [],
   "source": [
    "import pandas as pd\n",
    "import requests\n",
    "from urllib import parse as ulps\n",
    "import json\n",
    "import urllib"
   ]
  },
  {
   "cell_type": "code",
   "execution_count": 3,
   "id": "eaaea64c-c8a8-4ab6-884b-a77ade75e26f",
   "metadata": {},
   "outputs": [],
   "source": [
    "# Definicion Endpoint del API\n",
    "DOMINIO_ENDPOINT='localhost'\n",
    "PUERTO_ENDPOINT=5000"
   ]
  },
  {
   "cell_type": "code",
   "execution_count": 4,
   "id": "f6b49213-32ff-43c3-a8c7-a3c7c4de2cde",
   "metadata": {},
   "outputs": [],
   "source": [
    "def buscar_oferta_publica(parametro_busqueda: str) -> pd:\n",
    "    \"\"\"\n",
    "    Funcion que toma como unico parámetro el termino de busqueda (filtro)\n",
    "    Consulta el API desarrollado en Flask, con los parametros:\n",
    "    DOMINIO_ENDPOINT y DOMINIO_ENDPOINT\n",
    "    Y devuelve un dataframe con el sigueinte formato:\n",
    "    ['cuerpo', 'url']\n",
    "    return: DataFrame\n",
    "    input: String termino de busqueda\n",
    "    Ej: df = buscar_oferta_publica('Alicante')\n",
    "    \"\"\"\n",
    "    \n",
    "    # Codificamos el valor obtenido\n",
    "    texto_busqueda_html = urllib.parse.quote(parametro_busqueda)\n",
    "\n",
    "    # Enviamos la busqueda al API\n",
    "    # URL de la API\n",
    "    url_api = f\"http://{DOMINIO_ENDPOINT}:{PUERTO_ENDPOINT}/buscar\"\n",
    "    params = {'busqueda': texto_busqueda_html}\n",
    "    params_cod_uri = urllib.parse.urlencode(params)\n",
    "\n",
    "    respuesta = urllib.request.urlopen(f\"{url_api}?{params_cod_uri}\")\n",
    "  \n",
    "    datos_respuesta = respuesta.read()\n",
    "    datos_json = json.loads(datos_respuesta)\n",
    "\n",
    "    df = pd.DataFrame({\n",
    "        'cuerpo':datos_json['cuerpo'],\n",
    "        'url': datos_json['url']\n",
    "    })\n",
    "    \n",
    "    return df"
   ]
  },
  {
   "cell_type": "code",
   "execution_count": 5,
   "id": "376944e8-0008-42bb-a18f-e1319c32df79",
   "metadata": {},
   "outputs": [
    {
     "name": "stdin",
     "output_type": "stream",
     "text": [
      "Introduce termino de busqueda:  Albacete\n"
     ]
    }
   ],
   "source": [
    "termino_busqueda = input(\"Introduce termino de busqueda: \")\n",
    "df = buscar_oferta_publica(termino_busqueda)"
   ]
  },
  {
   "cell_type": "code",
   "execution_count": 6,
   "id": "cf664b49-d719-46f4-aa2a-3a63fa66c430",
   "metadata": {},
   "outputs": [
    {
     "name": "stdout",
     "output_type": "stream",
     "text": [
      "Filtro: Albacete\n"
     ]
    },
    {
     "data": {
      "text/html": [
       "<div>\n",
       "<style scoped>\n",
       "    .dataframe tbody tr th:only-of-type {\n",
       "        vertical-align: middle;\n",
       "    }\n",
       "\n",
       "    .dataframe tbody tr th {\n",
       "        vertical-align: top;\n",
       "    }\n",
       "\n",
       "    .dataframe thead th {\n",
       "        text-align: right;\n",
       "    }\n",
       "</style>\n",
       "<table border=\"1\" class=\"dataframe\">\n",
       "  <thead>\n",
       "    <tr style=\"text-align: right;\">\n",
       "      <th></th>\n",
       "      <th>cuerpo</th>\n",
       "      <th>url</th>\n",
       "    </tr>\n",
       "  </thead>\n",
       "  <tbody>\n",
       "    <tr>\n",
       "      <th>0</th>\n",
       "      <td>[&lt;texto&gt;\\n&lt;p class=\"parrafo_2\"&gt;En el «Boletín ...</td>\n",
       "      <td>https://www.boe.es/boe/dias/2024/11/14/pdfs/BO...</td>\n",
       "    </tr>\n",
       "    <tr>\n",
       "      <th>1</th>\n",
       "      <td>[&lt;texto&gt;\\n&lt;p class=\"parrafo_2\"&gt;En el «Boletín ...</td>\n",
       "      <td>https://www.boe.es/boe/dias/2024/11/14/pdfs/BO...</td>\n",
       "    </tr>\n",
       "  </tbody>\n",
       "</table>\n",
       "</div>"
      ],
      "text/plain": [
       "                                              cuerpo  \\\n",
       "0  [<texto>\\n<p class=\"parrafo_2\">En el «Boletín ...   \n",
       "1  [<texto>\\n<p class=\"parrafo_2\">En el «Boletín ...   \n",
       "\n",
       "                                                 url  \n",
       "0  https://www.boe.es/boe/dias/2024/11/14/pdfs/BO...  \n",
       "1  https://www.boe.es/boe/dias/2024/11/14/pdfs/BO...  "
      ]
     },
     "execution_count": 6,
     "metadata": {},
     "output_type": "execute_result"
    }
   ],
   "source": [
    "# Observamos el dataset filtrado por el filtro de busqueda\n",
    "print(f'Filtro: {termino_busqueda}')\n",
    "df"
   ]
  },
  {
   "cell_type": "code",
   "execution_count": null,
   "id": "5611d652-e99e-41d4-bc9d-4da96a4c1bdc",
   "metadata": {},
   "outputs": [],
   "source": []
  },
  {
   "cell_type": "code",
   "execution_count": null,
   "id": "b0601ef3-6614-45cf-a348-d74a8bfd4160",
   "metadata": {},
   "outputs": [],
   "source": []
  }
 ],
 "metadata": {
  "kernelspec": {
   "display_name": "Python 3 (ipykernel)",
   "language": "python",
   "name": "python3"
  },
  "language_info": {
   "codemirror_mode": {
    "name": "ipython",
    "version": 3
   },
   "file_extension": ".py",
   "mimetype": "text/x-python",
   "name": "python",
   "nbconvert_exporter": "python",
   "pygments_lexer": "ipython3",
   "version": "3.11.7"
  }
 },
 "nbformat": 4,
 "nbformat_minor": 5
}
